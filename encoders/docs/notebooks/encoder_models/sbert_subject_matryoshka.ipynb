{
 "cells": [
  {
   "cell_type": "markdown",
   "metadata": {},
   "source": [
    "# Matryoshka finetuning\n",
    "\n",
    "**Model: `microsoft/mpnet-base`**\n",
    "\n",
    "**Purpose: Text (cosine) similarity with Matryoshka embeddings**"
   ]
  },
  {
   "cell_type": "code",
   "execution_count": 1,
   "metadata": {},
   "outputs": [
    {
     "data": {
      "text/html": [
       "\n",
       "<!-- Many of the styles here are inspired by: \n",
       "    https://towardsdatascience.com/10-practical-tips-you-need-to-know-to-personalize-jupyter-notebook-fbd202777e20 \n",
       "       \n",
       "    \n",
       "    On the author's local machine, these exist in the custom.css file. However, in order to keep uniform look and feel, \n",
       "    and at the request of participants, I have added it to this common import-file here.\n",
       "\n",
       "    -->\n",
       "\n",
       "<link href=\"https://fonts.googleapis.com/css?family=Lora:400,700|Montserrat:300\" rel=\"stylesheet\">\n",
       "\n",
       "<link href=\"https://fonts.googleapis.com/css2?family=Crimson+Pro&family=Literata&display=swap\" rel=\"stylesheet\">\n",
       "<style>\n",
       "\n",
       "\n",
       "#ipython_notebook::before{\n",
       " content:\"Neural Architectures\";\n",
       "        color: white;\n",
       "        font-weight: bold;\n",
       "        text-transform: uppercase;\n",
       "        font-family: 'Lora',serif;\n",
       "        font-size:16pt;\n",
       "        margin-bottom:15px;\n",
       "        margin-top:15px;\n",
       "           \n",
       "}\n",
       "body > #header {\n",
       "    #background: #D15555;\n",
       "    background: linear-gradient(to bottom, indianred 0%, #fff 100%);\n",
       "    opacity: 0.8;\n",
       "\n",
       "}\n",
       "\n",
       "\n",
       ".navbar-default .navbar-nav > li > a, #kernel_indicator {\n",
       "    color: white;\n",
       "    transition: all 0.25s;\n",
       "    font-size:10pt;\n",
       "    font-family: sans-serif;\n",
       "    font-weight:normal;\n",
       "}\n",
       ".navbar-default {\n",
       "    padding-left:100px;\n",
       "    background: none;\n",
       "    border: none;\n",
       "}\n",
       "\n",
       "\n",
       "body > menubar-container {\n",
       "    background-color: wheat;\n",
       "}\n",
       "#ipython_notebook img{                                                                                        \n",
       "    display:block; \n",
       "    \n",
       "    background: url(\"https://www.supportvectors.com/wp-content/uploads/2016/03/logo-poster-smaller.png\") no-repeat;\n",
       "    background-size: contain;\n",
       "   \n",
       "    padding-left: 600px;\n",
       "    padding-right: 100px;\n",
       "    \n",
       "    -moz-box-sizing: border-box;\n",
       "    box-sizing: border-box;\n",
       "}\n",
       "\n",
       "\n",
       "\n",
       "body {\n",
       " #font-family:  'Literata', serif;\n",
       "    font-family:'Lora', san-serif;\n",
       "    text-align: justify;\n",
       "    font-weight: 400;\n",
       "    font-size: 12pt;\n",
       "}\n",
       "\n",
       "iframe{\n",
       "    width:100%;\n",
       "    min-height:600px;\n",
       "}\n",
       "\n",
       "h1, h2, h3, h4, h5, h6 {\n",
       "# font-family: 'Montserrat', sans-serif;\n",
       " font-family:'Lora', serif;\n",
       " font-weight: 200;\n",
       " text-transform: uppercase;\n",
       " color: #EC7063 ;\n",
       "}\n",
       "\n",
       "h2 {\n",
       "    color: #000080;\n",
       "}\n",
       "\n",
       ".checkpoint_status, .autosave_status {\n",
       "    color:wheat;\n",
       "}\n",
       "\n",
       "#notebook_name {\n",
       "    font-weight: 600;\n",
       "    font-size:20pt;\n",
       "    text-variant:uppercase;\n",
       "    color: wheat; \n",
       "    margin-right:20px;\n",
       "    margin-left:-500px;\n",
       "}\n",
       "#notebook_name:hover {\n",
       "background-color: salmon;\n",
       "}\n",
       "\n",
       "\n",
       ".dataframe { /* dataframe atau table */\n",
       "    background: white;\n",
       "    box-shadow: 0px 1px 2px #bbb;\n",
       "}\n",
       ".dataframe thead th, .dataframe tbody td {\n",
       "    text-align: center;\n",
       "    padding: 1em;\n",
       "}\n",
       "\n",
       ".checkpoint_status, .autosave_status {\n",
       "    color:wheat;\n",
       "}\n",
       "\n",
       ".output {\n",
       "    align-items: center;\n",
       "}\n",
       "\n",
       "div.cell {\n",
       "    transition: all 0.25s;\n",
       "    border: none;\n",
       "    position: relative;\n",
       "    top: 0;\n",
       "}\n",
       "div.cell.selected, div.cell.selected.jupyter-soft-selected {\n",
       "    border: none;\n",
       "    background: transparent;\n",
       "    box-shadow: 0 6px 18px #aaa;\n",
       "    z-index: 10;\n",
       "    top: -10px;\n",
       "}\n",
       ".CodeMirror pre, .CodeMirror-dialog, .CodeMirror-dialog .CodeMirror-search-field, .terminal-app .terminal {\n",
       "    font-family: 'Hack' , serif; \n",
       "    font-weight: 500;\n",
       "    font-size: 14pt;\n",
       "}\n",
       "\n",
       "\n",
       "\n",
       "</style>    \n"
      ],
      "text/plain": [
       "<IPython.core.display.HTML object>"
      ]
     },
     "metadata": {},
     "output_type": "display_data"
    },
    {
     "data": {
      "text/markdown": [
       "\n",
       "<div style=\"color:#aaa;font-size:8pt\">\n",
       "<hr/>\n",
       "&copy; SupportVectors. All rights reserved. <blockquote>This notebook is the intellectual property of SupportVectors, and part of its training material. \n",
       "Only the participants in SupportVectors workshops are allowed to study the notebooks for educational purposes currently, but is prohibited from copying or using it for any other purposes without written permission.\n",
       "\n",
       "<b> These notebooks are chapters and sections from Asif Qamar's textbook that he is writing on Data Science. So we request you to not circulate the material to others.</b>\n",
       " </blockquote>\n",
       " <hr/>\n",
       "</div>\n",
       "\n"
      ],
      "text/plain": [
       "<IPython.core.display.Markdown object>"
      ]
     },
     "metadata": {},
     "output_type": "display_data"
    }
   ],
   "source": [
    "%run ../supportvectors-common.ipynb"
   ]
  },
  {
   "cell_type": "code",
   "execution_count": 2,
   "metadata": {},
   "outputs": [
    {
     "name": "stderr",
     "output_type": "stream",
     "text": [
      "2024-11-03 08:26:30.766641: E external/local_xla/xla/stream_executor/cuda/cuda_fft.cc:485] Unable to register cuFFT factory: Attempting to register factory for plugin cuFFT when one has already been registered\n",
      "2024-11-03 08:26:30.787493: E external/local_xla/xla/stream_executor/cuda/cuda_dnn.cc:8454] Unable to register cuDNN factory: Attempting to register factory for plugin cuDNN when one has already been registered\n",
      "2024-11-03 08:26:30.794367: E external/local_xla/xla/stream_executor/cuda/cuda_blas.cc:1452] Unable to register cuBLAS factory: Attempting to register factory for plugin cuBLAS when one has already been registered\n",
      "2024-11-03 08:26:30.809812: I tensorflow/core/platform/cpu_feature_guard.cc:210] This TensorFlow binary is optimized to use available CPU instructions in performance-critical operations.\n",
      "To enable the following instructions: AVX2 FMA, in other operations, rebuild TensorFlow with the appropriate compiler flags.\n",
      "2024-11-03 08:26:31.835114: W tensorflow/compiler/tf2tensorrt/utils/py_utils.cc:38] TF-TRT Warning: Could not find TensorRT\n"
     ]
    }
   ],
   "source": [
    "import torch\n",
    "from sentence_transformers import SentenceTransformer\n",
    "from svlearn.config.configuration import ConfigurationMixin\n",
    "from svlearn.encoder_models.sbert_subjects_full_ft import convert_to_pair_dataset, sampled_dataset, get_evaluator\n",
    "from svlearn.util.hf_text_util import get_train_test_lists, tuples_list_to_dataset"
   ]
  },
  {
   "cell_type": "code",
   "execution_count": 3,
   "metadata": {},
   "outputs": [
    {
     "name": "stderr",
     "output_type": "stream",
     "text": [
      "WARNING:root:No configuration file specified. Trying the default location\n",
      "WARNING:root:Loading configuration from /home/chandar/fine-tuning/fine-tuning-config.yaml if it exists\n"
     ]
    },
    {
     "name": "stdout",
     "output_type": "stream",
     "text": [
      "/home/chandar/fine-tuning/docs/notebooks/encoder_models\n"
     ]
    }
   ],
   "source": [
    "# Get the CommentedMap of config (contains paths for data and results directories)\n",
    "config = ConfigurationMixin().load_config()"
   ]
  },
  {
   "cell_type": "markdown",
   "metadata": {},
   "source": [
    "## Load the Model and Dataset from HuggingFace"
   ]
  },
  {
   "cell_type": "code",
   "execution_count": 4,
   "metadata": {},
   "outputs": [
    {
     "name": "stderr",
     "output_type": "stream",
     "text": [
      "WARNING:sentence_transformers.SentenceTransformer:No sentence-transformers model found with name microsoft/mpnet-base. Creating a new one with mean pooling.\n",
      "Some weights of MPNetModel were not initialized from the model checkpoint at microsoft/mpnet-base and are newly initialized: ['mpnet.pooler.dense.bias', 'mpnet.pooler.dense.weight']\n",
      "You should probably TRAIN this model on a down-stream task to be able to use it for predictions and inference.\n"
     ]
    }
   ],
   "source": [
    "\n",
    "device = 'cuda' if torch.cuda.is_available() else 'cpu'\n",
    "# Get the base sentence transformer model\n",
    "model_name = \"microsoft/mpnet-base\"\n",
    "model = SentenceTransformer(model_name).to(device)"
   ]
  },
  {
   "cell_type": "code",
   "execution_count": 5,
   "metadata": {},
   "outputs": [],
   "source": [
    "\n",
    "sentence1 = \"The rate of change of displacement is velocity\"\n",
    "sentence2 = \"Kidney plays an important role in purifying blood\"\n",
    "sentence3 = \"Many countries obtained their freedom by 1950\"\n",
    "sentence4 = \"Force is proportional to mass\"\n",
    "sentence5 = \"Vaccines train our immune system to create antibodies\"\n",
    "sentence6 = \"World war 2 was a global conflict between two coalitions - the allies and the axis powers\"\n",
    "\n",
    "sentences = [sentence1, sentence4, sentence2, sentence5, sentence3, sentence6]\n"
   ]
  },
  {
   "cell_type": "code",
   "execution_count": 6,
   "metadata": {},
   "outputs": [
    {
     "name": "stdout",
     "output_type": "stream",
     "text": [
      "tensor([[1.0000, 0.9100, 0.7976, 0.8212, 0.8668, 0.7800],\n",
      "        [0.9100, 1.0000, 0.8350, 0.8526, 0.8465, 0.7850],\n",
      "        [0.7976, 0.8350, 1.0000, 0.9248, 0.8343, 0.8791],\n",
      "        [0.8212, 0.8526, 0.9248, 1.0000, 0.8663, 0.8532],\n",
      "        [0.8668, 0.8465, 0.8343, 0.8663, 1.0000, 0.8532],\n",
      "        [0.7800, 0.7850, 0.8791, 0.8532, 0.8532, 1.0000]])\n"
     ]
    }
   ],
   "source": [
    "embeddings = model.encode(sentences)\n",
    "similarities = model.similarity(embeddings, embeddings)\n",
    "print(similarities)\n"
   ]
  },
  {
   "cell_type": "markdown",
   "metadata": {},
   "source": [
    "Create the evaluator to evaluate the model before and after training"
   ]
  },
  {
   "cell_type": "code",
   "execution_count": 7,
   "metadata": {},
   "outputs": [
    {
     "data": {
      "application/vnd.jupyter.widget-view+json": {
       "model_id": "179ef92cda774a27b53b236f8c4918e0",
       "version_major": 2,
       "version_minor": 0
      },
      "text/plain": [
       "Filter:   0%|          | 0/9333 [00:00<?, ? examples/s]"
      ]
     },
     "metadata": {},
     "output_type": "display_data"
    },
    {
     "data": {
      "application/vnd.jupyter.widget-view+json": {
       "model_id": "a0cd1279187a40d8a5a8aa724d2d81c9",
       "version_major": 2,
       "version_minor": 0
      },
      "text/plain": [
       "Filter:   0%|          | 0/9333 [00:00<?, ? examples/s]"
      ]
     },
     "metadata": {},
     "output_type": "display_data"
    },
    {
     "data": {
      "application/vnd.jupyter.widget-view+json": {
       "model_id": "b4b2334e68e949a28ff2c424a2126f89",
       "version_major": 2,
       "version_minor": 0
      },
      "text/plain": [
       "Filter:   0%|          | 0/9333 [00:00<?, ? examples/s]"
      ]
     },
     "metadata": {},
     "output_type": "display_data"
    }
   ],
   "source": [
    "# pick chunks labeled with subjects (biology, physics, history assigned to labels 0, 1, 2 respectively)\n",
    "_, test = get_train_test_lists(cfg=config)\n",
    "\n",
    "# Convert to Dataset format\n",
    "test_dataset = tuples_list_to_dataset(test)\n",
    "\n",
    "# Sample to max of 500 per label so that the paired dataset is having max of 1500*1499/2\n",
    "test_dataset = sampled_dataset(test_dataset)\n",
    "\n",
    "# Create the paired dataset consisting of (sentence1, sentence2, score) from the text/label dataset\n",
    "test_dataset = convert_to_pair_dataset(test_dataset)\n",
    "\n",
    "binary_acc_evaluator = get_evaluator(test_dataset=test_dataset)"
   ]
  },
  {
   "cell_type": "markdown",
   "metadata": {},
   "source": [
    "Evaluate model before training"
   ]
  },
  {
   "cell_type": "code",
   "execution_count": 8,
   "metadata": {},
   "outputs": [
    {
     "data": {
      "text/plain": [
       "{'cosine_accuracy': 0.7608,\n",
       " 'cosine_accuracy_threshold': 0.9584275484085083,\n",
       " 'cosine_f1': 0.5781433607520565,\n",
       " 'cosine_f1_threshold': 0.9403972029685974,\n",
       " 'cosine_precision': 0.5594087549744173,\n",
       " 'cosine_recall': 0.5981762917933131,\n",
       " 'cosine_ap': 0.651767715812509,\n",
       " 'dot_accuracy': 0.6998,\n",
       " 'dot_accuracy_threshold': 20.22665023803711,\n",
       " 'dot_f1': 0.4952495852812547,\n",
       " 'dot_f1_threshold': 10.787991523742676,\n",
       " 'dot_precision': 0.3293221018852788,\n",
       " 'dot_recall': 0.998176291793313,\n",
       " 'dot_ap': 0.4495384496125088,\n",
       " 'manhattan_accuracy': 0.7828,\n",
       " 'manhattan_accuracy_threshold': 24.910701751708984,\n",
       " 'manhattan_f1': 0.6304147465437788,\n",
       " 'manhattan_f1_threshold': 27.439680099487305,\n",
       " 'manhattan_precision': 0.6372670807453417,\n",
       " 'manhattan_recall': 0.6237082066869301,\n",
       " 'manhattan_ap': 0.7029136962512184,\n",
       " 'euclidean_accuracy': 0.7614,\n",
       " 'euclidean_accuracy_threshold': 1.2952733039855957,\n",
       " 'euclidean_f1': 0.5777409555371444,\n",
       " 'euclidean_f1_threshold': 1.596674919128418,\n",
       " 'euclidean_precision': 0.5293522267206477,\n",
       " 'euclidean_recall': 0.6358662613981763,\n",
       " 'euclidean_ap': 0.653297591825689,\n",
       " 'max_accuracy': 0.7828,\n",
       " 'max_accuracy_threshold': 24.910701751708984,\n",
       " 'max_f1': 0.6304147465437788,\n",
       " 'max_f1_threshold': 27.439680099487305,\n",
       " 'max_precision': 0.6372670807453417,\n",
       " 'max_recall': 0.998176291793313,\n",
       " 'max_ap': 0.7029136962512184}"
      ]
     },
     "execution_count": 8,
     "metadata": {},
     "output_type": "execute_result"
    }
   ],
   "source": [
    "\n",
    "results = binary_acc_evaluator(model)\n",
    "results"
   ]
  },
  {
   "cell_type": "markdown",
   "metadata": {},
   "source": [
    "## Load the fine-tuned model and repeat with the fully trained model first"
   ]
  },
  {
   "cell_type": "code",
   "execution_count": 9,
   "metadata": {},
   "outputs": [
    {
     "name": "stderr",
     "output_type": "stream",
     "text": [
      "WARNING:root:No configuration file specified. Trying the default location\n",
      "WARNING:root:Loading configuration from /home/chandar/fine-tuning/fine-tuning-config.yaml if it exists\n"
     ]
    },
    {
     "name": "stdout",
     "output_type": "stream",
     "text": [
      "/home/chandar/fine-tuning/docs/notebooks/encoder_models\n",
      "tensor([[ 1.0000,  0.9197, -0.1257, -0.1462, -0.1447, -0.1692],\n",
      "        [ 0.9197,  1.0000, -0.0565, -0.0853, -0.1198, -0.1441],\n",
      "        [-0.1257, -0.0565,  1.0000,  0.9570, -0.0074, -0.1261],\n",
      "        [-0.1462, -0.0853,  0.9570,  1.0000, -0.0310, -0.1589],\n",
      "        [-0.1447, -0.1198, -0.0074, -0.0310,  1.0000,  0.9057],\n",
      "        [-0.1692, -0.1441, -0.1261, -0.1589,  0.9057,  1.0000]])\n"
     ]
    }
   ],
   "source": [
    "config = ConfigurationMixin().load_config()\n",
    "results_dir = config[\"paths\"][\"results\"]\n",
    "# Update Checkpoint Folder\n",
    "finetuned_model_dir = f'{results_dir}/subject-based-encoder-matryoshka/checkpoint-2000'   \n",
    "# Load the model\n",
    "model = SentenceTransformer(finetuned_model_dir).to(device)\n",
    "\n",
    "embeddings = model.encode(sentences)\n",
    "similarities = model.similarity(embeddings, embeddings)\n",
    "print(similarities)"
   ]
  },
  {
   "cell_type": "markdown",
   "metadata": {},
   "source": [
    "Evaluate model after training"
   ]
  },
  {
   "cell_type": "code",
   "execution_count": 10,
   "metadata": {},
   "outputs": [
    {
     "data": {
      "text/plain": [
       "{'cosine_accuracy': 0.9856,\n",
       " 'cosine_accuracy_threshold': 0.33601704239845276,\n",
       " 'cosine_f1': 0.9781553398058254,\n",
       " 'cosine_f1_threshold': 0.33601704239845276,\n",
       " 'cosine_precision': 0.9763779527559056,\n",
       " 'cosine_recall': 0.9799392097264438,\n",
       " 'cosine_ap': 0.9944484131851321,\n",
       " 'dot_accuracy': 0.9856,\n",
       " 'dot_accuracy_threshold': 4.369484901428223,\n",
       " 'dot_f1': 0.9781553398058254,\n",
       " 'dot_f1_threshold': 4.369484901428223,\n",
       " 'dot_precision': 0.9763779527559056,\n",
       " 'dot_recall': 0.9799392097264438,\n",
       " 'dot_ap': 0.9950381531554066,\n",
       " 'manhattan_accuracy': 0.9852,\n",
       " 'manhattan_accuracy_threshold': 93.51741790771484,\n",
       " 'manhattan_f1': 0.9775893397940643,\n",
       " 'manhattan_f1_threshold': 95.82697296142578,\n",
       " 'manhattan_precision': 0.9740494870247435,\n",
       " 'manhattan_recall': 0.9811550151975684,\n",
       " 'manhattan_ap': 0.9963936457799082,\n",
       " 'euclidean_accuracy': 0.9854,\n",
       " 'euclidean_accuracy_threshold': 4.452507495880127,\n",
       " 'euclidean_f1': 0.9778720824492271,\n",
       " 'euclidean_f1_threshold': 4.452507495880127,\n",
       " 'euclidean_precision': 0.975211608222491,\n",
       " 'euclidean_recall': 0.9805471124620061,\n",
       " 'euclidean_ap': 0.9960980471616361,\n",
       " 'max_accuracy': 0.9856,\n",
       " 'max_accuracy_threshold': 93.51741790771484,\n",
       " 'max_f1': 0.9781553398058254,\n",
       " 'max_f1_threshold': 95.82697296142578,\n",
       " 'max_precision': 0.9763779527559056,\n",
       " 'max_recall': 0.9811550151975684,\n",
       " 'max_ap': 0.9963936457799082}"
      ]
     },
     "execution_count": 10,
     "metadata": {},
     "output_type": "execute_result"
    }
   ],
   "source": [
    "\n",
    "results = binary_acc_evaluator(model)\n",
    "results"
   ]
  },
  {
   "cell_type": "markdown",
   "metadata": {},
   "source": [
    "Redo with reduced dim of 64"
   ]
  },
  {
   "cell_type": "code",
   "execution_count": 11,
   "metadata": {},
   "outputs": [
    {
     "name": "stdout",
     "output_type": "stream",
     "text": [
      "(6, 64)\n",
      "tensor([[ 1.0000,  0.9617, -0.1700, -0.2219, -0.0831, -0.1428],\n",
      "        [ 0.9617,  1.0000, -0.0264, -0.0670, -0.0513, -0.1217],\n",
      "        [-0.1700, -0.0264,  1.0000,  0.9829, -0.2261, -0.2781],\n",
      "        [-0.2219, -0.0670,  0.9829,  1.0000, -0.2078, -0.2560],\n",
      "        [-0.0831, -0.0513, -0.2261, -0.2078,  1.0000,  0.9562],\n",
      "        [-0.1428, -0.1217, -0.2781, -0.2560,  0.9562,  1.0000]])\n"
     ]
    }
   ],
   "source": [
    "model = SentenceTransformer(finetuned_model_dir, truncate_dim=64).to(device)\n",
    "embeddings = model.encode(sentences)\n",
    "print(embeddings.shape)\n",
    "similarities = model.similarity(embeddings, embeddings)\n",
    "print(similarities)"
   ]
  },
  {
   "cell_type": "code",
   "execution_count": 12,
   "metadata": {},
   "outputs": [
    {
     "data": {
      "text/plain": [
       "{'cosine_accuracy': 0.9858,\n",
       " 'cosine_accuracy_threshold': 0.45322659611701965,\n",
       " 'cosine_f1': 0.978399756616976,\n",
       " 'cosine_f1_threshold': 0.45322659611701965,\n",
       " 'cosine_precision': 0.9792935444579781,\n",
       " 'cosine_recall': 0.9775075987841946,\n",
       " 'cosine_ap': 0.9934115326124136,\n",
       " 'dot_accuracy': 0.9858,\n",
       " 'dot_accuracy_threshold': 0.8417322635650635,\n",
       " 'dot_f1': 0.9784260103312064,\n",
       " 'dot_f1_threshold': 0.7999638915061951,\n",
       " 'dot_precision': 0.9781287970838396,\n",
       " 'dot_recall': 0.9787234042553191,\n",
       " 'dot_ap': 0.9915131499725633,\n",
       " 'manhattan_accuracy': 0.9856,\n",
       " 'manhattan_accuracy_threshold': 10.817245483398438,\n",
       " 'manhattan_f1': 0.9782082324455206,\n",
       " 'manhattan_f1_threshold': 10.817245483398438,\n",
       " 'manhattan_precision': 0.974080771549126,\n",
       " 'manhattan_recall': 0.982370820668693,\n",
       " 'manhattan_ap': 0.993687431696979,\n",
       " 'euclidean_accuracy': 0.9858,\n",
       " 'euclidean_accuracy_threshold': 1.3337856531143188,\n",
       " 'euclidean_f1': 0.9783470570295821,\n",
       " 'euclidean_f1_threshold': 1.3702194690704346,\n",
       " 'euclidean_precision': 0.981640146878825,\n",
       " 'euclidean_recall': 0.9750759878419453,\n",
       " 'euclidean_ap': 0.9934610969647723,\n",
       " 'max_accuracy': 0.9858,\n",
       " 'max_accuracy_threshold': 10.817245483398438,\n",
       " 'max_f1': 0.9784260103312064,\n",
       " 'max_f1_threshold': 10.817245483398438,\n",
       " 'max_precision': 0.981640146878825,\n",
       " 'max_recall': 0.982370820668693,\n",
       " 'max_ap': 0.993687431696979}"
      ]
     },
     "execution_count": 12,
     "metadata": {},
     "output_type": "execute_result"
    }
   ],
   "source": [
    "results = binary_acc_evaluator(model)\n",
    "results"
   ]
  }
 ],
 "metadata": {
  "kernelspec": {
   "display_name": "fine_tuning",
   "language": "python",
   "name": "python3"
  },
  "language_info": {
   "codemirror_mode": {
    "name": "ipython",
    "version": 3
   },
   "file_extension": ".py",
   "mimetype": "text/x-python",
   "name": "python",
   "nbconvert_exporter": "python",
   "pygments_lexer": "ipython3",
   "version": "3.12.7"
  }
 },
 "nbformat": 4,
 "nbformat_minor": 2
}
